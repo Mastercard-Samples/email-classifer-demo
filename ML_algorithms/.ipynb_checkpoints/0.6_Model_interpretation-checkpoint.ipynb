{
 "cells": [
  {
   "cell_type": "code",
   "execution_count": 1,
   "metadata": {},
   "outputs": [],
   "source": [
    "import pickle\n",
    "import pandas as pd\n",
    "import numpy as np\n",
    "import random"
   ]
  },
  {
   "cell_type": "code",
   "execution_count": 2,
   "metadata": {},
   "outputs": [
    {
     "name": "stderr",
     "output_type": "stream",
     "text": [
      "/Users/e107109/opt/anaconda3/lib/python3.9/site-packages/sklearn/base.py:324: UserWarning: Trying to unpickle estimator KNeighborsClassifier from version 0.22.1 when using version 1.0. This might lead to breaking code or invalid results. Use at your own risk. For more info please refer to:\n",
      "https://scikit-learn.org/stable/modules/model_persistence.html#security-maintainability-limitations\n",
      "  warnings.warn(\n"
     ]
    }
   ],
   "source": [
    "# Dataframe\n",
    "with open(\"../Pickles/Content_Parsed.pickle\", 'rb') as data:\n",
    "    df = pickle.load(data)\n",
    "    \n",
    "# X_train\n",
    "with open(\"../Pickles/X_train.pickle\", 'rb') as data:\n",
    "    X_train = pickle.load(data)\n",
    "\n",
    "# X_test\n",
    "with open(\"../Pickles/X_test.pickle\", 'rb') as data:\n",
    "    X_test = pickle.load(data)\n",
    "\n",
    "# y_train\n",
    "with open(\"../Pickles/y_train.pickle\", 'rb') as data:\n",
    "    y_train = pickle.load(data)\n",
    "\n",
    "# y_test\n",
    "with open(\"../Pickles/y_test.pickle\", 'rb') as data:\n",
    "    y_test = pickle.load(data)\n",
    "\n",
    "# features_train\n",
    "with open(\"../Pickles/features_train.pickle\", 'rb') as data:\n",
    "    features_train = pickle.load(data)\n",
    "\n",
    "# labels_train\n",
    "with open(\"../Pickles/labels_train.pickle\", 'rb') as data:\n",
    "    labels_train = pickle.load(data)\n",
    "\n",
    "# features_test\n",
    "with open(\"../Pickles/features_test.pickle\", 'rb') as data:\n",
    "    features_test = pickle.load(data)\n",
    "\n",
    "# labels_test\n",
    "with open(\"../Pickles/labels_test.pickle\", 'rb') as data:\n",
    "    labels_test = pickle.load(data)\n",
    "    \n",
    "# KNN Model\n",
    "with open(\"./Models/best_knn.pickle\", 'rb') as data:\n",
    "    knn_model = pickle.load(data)\n",
    "    \n",
    "# Category mapping dictionary\n",
    "category_codes = {\n",
    "    'Service Proxy troubleshooting / APIGW': 1,\n",
    "    'Onboarding generic queries': 2,\n",
    "    'Assessment/rescore queries/early spec/exception requests': 3,\n",
    "    'Access to Tool queries': 4,\n",
    "    'API Standards queries': 5,\n",
    "    'zally': 6,\n",
    "    'Client libs': 7,\n",
    "    'Jamstack content reviewer':  8,             \n",
    "    # 'Redirecting queries to other teams' : '9', \n",
    "    # 'Redirect to us' : '10', \n",
    "}\n",
    "\n",
    "category_names = {'1' : 'Service Proxy troubleshooting / APIGW', \n",
    "          '2' : 'Onboarding generic queries',\n",
    "          '3' : 'Assessment/rescore queries/early spec/exception requests',\n",
    "          '4' : 'Access to Tool queries', \n",
    "          '5' : 'API Standards queries',\n",
    "          '6' : 'zally',\n",
    "          '7' : 'Client libs', \n",
    "          '8' : 'Jamstack content reviewer',             \n",
    "         # 'Redirecting queries to other teams' : '9', \n",
    "         # 'Redirect to us' : '10', \n",
    "                 }"
   ]
  },
  {
   "cell_type": "markdown",
   "metadata": {},
   "source": [
    "[Misclassified](#misclassified)"
   ]
  },
  {
   "cell_type": "code",
   "execution_count": 3,
   "metadata": {},
   "outputs": [],
   "source": [
    "predictions = knn_model.predict(features_test)"
   ]
  },
  {
   "cell_type": "markdown",
   "metadata": {},
   "source": [
    "<a id=\"misclassified\"></a>\n",
    "### Creating test set df with actual and predicted values"
   ]
  },
  {
   "cell_type": "code",
   "execution_count": 4,
   "metadata": {},
   "outputs": [],
   "source": [
    "index_X_test = X_test.index\n",
    "\n",
    "# We get them from the original df\n",
    "df_test = df.loc[index_X_test]\n",
    "\n",
    "# Add the predictions\n",
    "df_test['Prediction'] = predictions\n",
    "\n",
    "# Clean columns\n",
    "df_test = df_test[['Body', 'Category', 'Prediction']]\n",
    "\n",
    "# Decode\n",
    "df_test['Category_Predicted'] = df_test['Prediction']\n",
    "df_test = df_test.replace({'Category_Predicted': category_names, 'Category': category_names})\n",
    "\n",
    "# Clean columns again\n",
    "df_test = df_test[['Body', 'Category', 'Category_Predicted']]"
   ]
  },
  {
   "cell_type": "code",
   "execution_count": 5,
   "metadata": {},
   "outputs": [
    {
     "data": {
      "text/html": [
       "<div>\n",
       "<style scoped>\n",
       "    .dataframe tbody tr th:only-of-type {\n",
       "        vertical-align: middle;\n",
       "    }\n",
       "\n",
       "    .dataframe tbody tr th {\n",
       "        vertical-align: top;\n",
       "    }\n",
       "\n",
       "    .dataframe thead th {\n",
       "        text-align: right;\n",
       "    }\n",
       "</style>\n",
       "<table border=\"1\" class=\"dataframe\">\n",
       "  <thead>\n",
       "    <tr style=\"text-align: right;\">\n",
       "      <th></th>\n",
       "      <th>Body</th>\n",
       "      <th>Category</th>\n",
       "      <th>Category_Predicted</th>\n",
       "    </tr>\n",
       "  </thead>\n",
       "  <tbody>\n",
       "    <tr>\n",
       "      <th>2809</th>\n",
       "      <td>Hi team,\\r\\n\\r\\n \\r\\n\\r\\nOur team (ABU) are lo...</td>\n",
       "      <td>API Standards queries</td>\n",
       "      <td>Onboarding generic queries</td>\n",
       "    </tr>\n",
       "  </tbody>\n",
       "</table>\n",
       "</div>"
      ],
      "text/plain": [
       "                                                   Body  \\\n",
       "2809  Hi team,\\r\\n\\r\\n \\r\\n\\r\\nOur team (ABU) are lo...   \n",
       "\n",
       "                   Category          Category_Predicted  \n",
       "2809  API Standards queries  Onboarding generic queries  "
      ]
     },
     "execution_count": 5,
     "metadata": {},
     "output_type": "execute_result"
    }
   ],
   "source": [
    "df_test.iloc[:1]"
   ]
  },
  {
   "cell_type": "markdown",
   "metadata": {},
   "source": [
    "#### Misclassified data "
   ]
  },
  {
   "cell_type": "code",
   "execution_count": 6,
   "metadata": {},
   "outputs": [
    {
     "data": {
      "text/html": [
       "<div>\n",
       "<style scoped>\n",
       "    .dataframe tbody tr th:only-of-type {\n",
       "        vertical-align: middle;\n",
       "    }\n",
       "\n",
       "    .dataframe tbody tr th {\n",
       "        vertical-align: top;\n",
       "    }\n",
       "\n",
       "    .dataframe thead th {\n",
       "        text-align: right;\n",
       "    }\n",
       "</style>\n",
       "<table border=\"1\" class=\"dataframe\">\n",
       "  <thead>\n",
       "    <tr style=\"text-align: right;\">\n",
       "      <th></th>\n",
       "      <th>Body</th>\n",
       "      <th>Category</th>\n",
       "      <th>Category_Predicted</th>\n",
       "    </tr>\n",
       "  </thead>\n",
       "  <tbody>\n",
       "    <tr>\n",
       "      <th>2809</th>\n",
       "      <td>Hi team,\\r\\n\\r\\n \\r\\n\\r\\nOur team (ABU) are lo...</td>\n",
       "      <td>API Standards queries</td>\n",
       "      <td>Onboarding generic queries</td>\n",
       "    </tr>\n",
       "  </tbody>\n",
       "</table>\n",
       "</div>"
      ],
      "text/plain": [
       "                                                   Body  \\\n",
       "2809  Hi team,\\r\\n\\r\\n \\r\\n\\r\\nOur team (ABU) are lo...   \n",
       "\n",
       "                   Category          Category_Predicted  \n",
       "2809  API Standards queries  Onboarding generic queries  "
      ]
     },
     "execution_count": 6,
     "metadata": {},
     "output_type": "execute_result"
    }
   ],
   "source": [
    "condition = (df_test['Category'] != df_test['Category_Predicted'])\n",
    "\n",
    "df_misclassified = df_test[condition]\n",
    "\n",
    "df_misclassified.iloc[:1]"
   ]
  },
  {
   "cell_type": "code",
   "execution_count": null,
   "metadata": {},
   "outputs": [],
   "source": [
    "print('Actual Category: %s' %(df_misclassified['Category'].iloc[0]))\n",
    "print('Predicted Category: %s' %(df_misclassified['Category_Predicted'].iloc[0]))\n",
    "print('-------------------------------------------')\n",
    "print('Body: ')\n",
    "print('%s' %(df_misclassified['Body'].iloc[0]))"
   ]
  }
 ],
 "metadata": {
  "kernelspec": {
   "display_name": "Python 3 (ipykernel)",
   "language": "python",
   "name": "python3"
  },
  "language_info": {
   "codemirror_mode": {
    "name": "ipython",
    "version": 3
   },
   "file_extension": ".py",
   "mimetype": "text/x-python",
   "name": "python",
   "nbconvert_exporter": "python",
   "pygments_lexer": "ipython3",
   "version": "3.9.12"
  }
 },
 "nbformat": 4,
 "nbformat_minor": 4
}
